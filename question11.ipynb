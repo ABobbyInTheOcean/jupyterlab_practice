{
 "cells": [
  {
   "cell_type": "markdown",
   "id": "ea59e9f5-a86d-4b1d-a689-2b44082570f4",
   "metadata": {},
   "source": [
    "# Yuk Bobby Chan\n",
    "Notebook for assignment 7"
   ]
  },
  {
   "cell_type": "code",
   "execution_count": 12,
   "id": "8bdf5f1c-8b87-4dbb-8b51-32941f471f9f",
   "metadata": {},
   "outputs": [
    {
     "name": "stdout",
     "output_type": "stream",
     "text": [
      "5.0\n"
     ]
    }
   ],
   "source": [
    "def compute_mean(x):\n",
    "    computed_mean = sum(x)/len(x)\n",
    "    print(computed_mean)\n",
    "    \n",
    "compute_mean([2,4,6,8])    "
   ]
  },
  {
   "cell_type": "markdown",
   "id": "97e07e52-ab4b-48a9-96a7-a247a07eab58",
   "metadata": {},
   "source": [
    "The function compute_mean will calculate the average (mean) of a list using the following equation:\n",
    "\n",
    "$$\n",
    "\\bar{x} = \\frac{x_1+x_2+\\cdot\\cdot\\cdot+x_n}{n} = \\frac{1}{n} \\left(\\sum_{i=i}^{n} x_{i}\\right)\n",
    "$$"
   ]
  }
 ],
 "metadata": {
  "kernelspec": {
   "display_name": "Python 3 (ipykernel)",
   "language": "python",
   "name": "python3"
  },
  "language_info": {
   "codemirror_mode": {
    "name": "ipython",
    "version": 3
   },
   "file_extension": ".py",
   "mimetype": "text/x-python",
   "name": "python",
   "nbconvert_exporter": "python",
   "pygments_lexer": "ipython3",
   "version": "3.10.9"
  }
 },
 "nbformat": 4,
 "nbformat_minor": 5
}
